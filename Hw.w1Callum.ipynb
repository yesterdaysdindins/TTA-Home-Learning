{
 "cells": [
  {
   "cell_type": "code",
   "execution_count": 10,
   "source": [
    "import random\r\n",
    "\r\n",
    "randNum = str(random.randint(1,10))\r\n",
    "name = input(\"What is your name?\")\r\n",
    "guess = input(\"Guess a number between 1 and 10.\")\r\n",
    "\r\n",
    "if randNum == guess:\r\n",
    "    print(\"Correct!\")\r\n",
    "else:\r\n",
    "    print(\"Incorrect\")"
   ],
   "outputs": [
    {
     "output_type": "stream",
     "name": "stdout",
     "text": [
      "4\n",
      "Guess is 4\n",
      "Correct!\n"
     ]
    }
   ],
   "metadata": {}
  },
  {
   "cell_type": "code",
   "execution_count": 15,
   "source": [
    "favNum = int(input(\"What is your favourite number between 1 and 100?\"))\r\n",
    "joke1 = \"I went to a street where the houses were numbered 8k, 16k, 32k, 64k, 128k, 256k and 512k. It was a trip down Memory Lane.\"\r\n",
    "joke2 = \"Why do programmers always mix up Christmas and Halloween? Because Dec 25 is Oct 31.\"\r\n",
    "joke3 = \"The best thing about a Boolean is that even if you are wrong, you are only off by a bit.\"\r\n",
    "\r\n",
    "if favNum % 3 == 0:\r\n",
    "    print(joke1)\r\n",
    "elif favNum % 3 == 1:\r\n",
    "    print(joke2)\r\n",
    "else:\r\n",
    "    print(joke3)"
   ],
   "outputs": [
    {
     "output_type": "stream",
     "name": "stdout",
     "text": [
      "Why do programmers always mix up Christmas and Halloween? Because Dec 25 is Oct 31.\n"
     ]
    }
   ],
   "metadata": {}
  },
  {
   "cell_type": "code",
   "execution_count": 16,
   "source": [
    "starter = input(\"What is your favourite starter?\")\r\n",
    "main = input(\"What is your favourite main?\")\r\n",
    "dessert = input(\"What is your favourite desert?\")\r\n",
    "drink = input(\"What is your favourite drink?\")\r\n",
    "\r\n",
    "print(\"Your favourite meal is\",starter,main,dessert,\"with a glass of\",drink)"
   ],
   "outputs": [
    {
     "output_type": "stream",
     "name": "stdout",
     "text": [
      "Your favourite meal is starter main dessert with a glass of cum\n"
     ]
    }
   ],
   "metadata": {}
  },
  {
   "cell_type": "code",
   "execution_count": 19,
   "source": [
    "value = 2000\r\n",
    "\r\n",
    "while value>1000:\r\n",
    "    value -= value/10\r\n",
    "    print(\"£\"+str(round(value,2)))"
   ],
   "outputs": [
    {
     "output_type": "stream",
     "name": "stdout",
     "text": [
      "£1800.0\n",
      "£1620.0\n",
      "£1458.0\n",
      "£1312.2\n",
      "£1180.98\n",
      "£1062.88\n",
      "£956.59\n"
     ]
    }
   ],
   "metadata": {}
  },
  {
   "cell_type": "code",
   "execution_count": 25,
   "source": [
    "num1 = int(input(\"enter a number\"))\r\n",
    "num2 = int(input(\"enter another number\"))\r\n",
    "op = input(\"enter the first letter of the operator you wish to use. Choose from add, subtract, multiply, divide, and raise\")\r\n",
    "\r\n",
    "if op == \"a\":\r\n",
    "    print(num1+num2)\r\n",
    "elif op == \"s\":\r\n",
    "    print(num1-num2)\r\n",
    "elif op == \"m\":\r\n",
    "    print(num1*num2)\r\n",
    "elif op == \"d\":\r\n",
    "    print(num1/num2)\r\n",
    "elif op == \"r\":\r\n",
    "    print(num1**num2)"
   ],
   "outputs": [
    {
     "output_type": "stream",
     "name": "stdout",
     "text": [
      "8\n"
     ]
    }
   ],
   "metadata": {}
  }
 ],
 "metadata": {
  "orig_nbformat": 4,
  "language_info": {
   "name": "python",
   "version": "3.9.7",
   "mimetype": "text/x-python",
   "codemirror_mode": {
    "name": "ipython",
    "version": 3
   },
   "pygments_lexer": "ipython3",
   "nbconvert_exporter": "python",
   "file_extension": ".py"
  },
  "kernelspec": {
   "name": "python3",
   "display_name": "Python 3.9.7 64-bit"
  },
  "interpreter": {
   "hash": "19cb835c5fba0efc47a1bc89662b22afcf0548aeff3d013794e630020ba056b2"
  }
 },
 "nbformat": 4,
 "nbformat_minor": 2
}
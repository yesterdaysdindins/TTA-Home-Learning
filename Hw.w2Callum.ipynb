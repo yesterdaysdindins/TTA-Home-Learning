{
 "cells": [
  {
   "cell_type": "code",
   "execution_count": 1,
   "source": [
    "value = 2000\r\n",
    "\r\n",
    "def bike(value):\r\n",
    "    value -= value/10\r\n",
    "    return value\r\n",
    "\r\n",
    "while (value>=1000):\r\n",
    "    value = bike(value)\r\n",
    "    print(\"£\"+str(round(value,2)))"
   ],
   "outputs": [
    {
     "output_type": "stream",
     "name": "stdout",
     "text": [
      "£1800.0\n",
      "£1620.0\n",
      "£1458.0\n",
      "£1312.2\n",
      "£1180.98\n",
      "£1062.88\n",
      "£956.59\n"
     ]
    }
   ],
   "metadata": {}
  },
  {
   "cell_type": "code",
   "execution_count": 2,
   "source": [
    "num1 = int(input(\"enter a number\"))\r\n",
    "num2 = int(input(\"enter another number\"))\r\n",
    "op = input(\"enter the first letter of the operator you wish to use. Choose from add, subtract, multiply, divide, and raise\")\r\n",
    "\r\n",
    "def calculate(num1,num2,op):\r\n",
    "    if op == \"a\":\r\n",
    "        print(num1+num2)\r\n",
    "    elif op == \"s\":\r\n",
    "        print(num1-num2)\r\n",
    "    elif op == \"m\":\r\n",
    "        print(num1*num2)\r\n",
    "    elif op == \"d\":\r\n",
    "        print(num1/num2)\r\n",
    "    elif op == \"r\":\r\n",
    "        print(num1**num2)\r\n",
    "\r\n",
    "calculate(num1,num2,op)"
   ],
   "outputs": [
    {
     "output_type": "stream",
     "name": "stdout",
     "text": [
      "10\n"
     ]
    }
   ],
   "metadata": {}
  }
 ],
 "metadata": {
  "orig_nbformat": 4,
  "language_info": {
   "name": "python",
   "version": "3.9.7",
   "mimetype": "text/x-python",
   "codemirror_mode": {
    "name": "ipython",
    "version": 3
   },
   "pygments_lexer": "ipython3",
   "nbconvert_exporter": "python",
   "file_extension": ".py"
  },
  "kernelspec": {
   "name": "python3",
   "display_name": "Python 3.9.7 64-bit"
  },
  "interpreter": {
   "hash": "19cb835c5fba0efc47a1bc89662b22afcf0548aeff3d013794e630020ba056b2"
  }
 },
 "nbformat": 4,
 "nbformat_minor": 2
}